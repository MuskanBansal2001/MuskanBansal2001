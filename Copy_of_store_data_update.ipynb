{
  "nbformat": 4,
  "nbformat_minor": 0,
  "metadata": {
    "accelerator": "GPU",
    "colab": {
      "name": "Copy of store data update.ipynb",
      "provenance": [],
      "collapsed_sections": [],
      "include_colab_link": true
    },
    "kernelspec": {
      "display_name": "Python 3",
      "name": "python3"
    },
    "language_info": {
      "name": "python"
    }
  },
  "cells": [
    {
      "cell_type": "markdown",
      "metadata": {
        "id": "view-in-github",
        "colab_type": "text"
      },
      "source": [
        "<a href=\"https://colab.research.google.com/github/MuskanBansal2001/MuskanBansal2001/blob/main/Copy_of_store_data_update.ipynb\" target=\"_parent\"><img src=\"https://colab.research.google.com/assets/colab-badge.svg\" alt=\"Open In Colab\"/></a>"
      ]
    },
    {
      "cell_type": "code",
      "metadata": {
        "id": "2-o4QqyglwY_"
      },
      "source": [
        "import pandas as pd\n",
        "from openpyxl import load_workbook\n",
        "from google.colab import auth\n",
        "import gspread\n",
        "from oauth2client.client import GoogleCredentials\n",
        "from IPython.display import clear_output\n",
        "import time"
      ],
      "execution_count": null,
      "outputs": []
    },
    {
      "cell_type": "code",
      "metadata": {
        "id": "BM_6T4j5mq1y"
      },
      "source": [
        "auth.authenticate_user()\n",
        "gc = gspread.authorize(GoogleCredentials.get_application_default())"
      ],
      "execution_count": null,
      "outputs": []
    },
    {
      "cell_type": "code",
      "metadata": {
        "id": "kY40h1RVMb_C"
      },
      "source": [
        "def isMall(address):\n",
        "    try:\n",
        "      if ('Mall' or 'mall' or 'MALL') in address:\n",
        "        x = address.split(',')\n",
        "        for j in x:\n",
        "          if ('Mall' or 'mall' or 'MALL') in j:\n",
        "            isMall = 'TRUE'\n",
        "            mallName = j\n",
        "            break\n",
        "      else:\n",
        "          isMall = 'FALSE'\n",
        "          mallName = ''\n",
        "    except:\n",
        "      isMall = 'FALSE'\n",
        "      mallName = ''\n",
        "    sheet.update_cell(row=i, col=10, value=isMall)\n",
        "    sheet.update_cell(row=i, col=11, value=mallName)"
      ],
      "execution_count": null,
      "outputs": []
    },
    {
      "cell_type": "code",
      "metadata": {
        "id": "UDE_EYj2nEqw"
      },
      "source": [
        "wb = gc.open_by_url('https://docs.google.com/spreadsheets/d/1f4VM_rd8huwFesQH_A4vnzeDJARxOhhG3Dw-WsokytI/edit#gid=338255655')"
      ],
      "execution_count": null,
      "outputs": []
    },
    {
      "cell_type": "code",
      "metadata": {
        "id": "7drtP3mQP6-_",
        "colab": {
          "base_uri": "https://localhost:8080/"
        },
        "outputId": "2647f6b2-8111-49bc-a06f-d42235f29382"
      },
      "source": [
        "sheetName = input('Enter city name : ')\n",
        "sheet = wb.worksheet(sheetName)\n",
        "add_len = len(sheet.col_values(3))\n",
        "print('Current Sheet : ',sheetName)\n",
        "print('total Number of rows in a Sheet :',add_len)"
      ],
      "execution_count": null,
      "outputs": [
        {
          "output_type": "stream",
          "name": "stdout",
          "text": [
            "Enter city name : Mumbai\n",
            "Current Sheet :  Mumbai\n",
            "total Number of rows in a Sheet : 800\n"
          ]
        }
      ]
    },
    {
      "cell_type": "code",
      "metadata": {
        "colab": {
          "base_uri": "https://localhost:8080/"
        },
        "id": "tFMl36NjMYLq",
        "outputId": "b34a90e9-7dd5-44dc-89d6-3a36bf820d89"
      },
      "source": [
        "#insert start row and end row values\n",
        "start = int(input('Enter start row Number : '))\n",
        "end = int(input('Enter end row Number : '))\n",
        "print('Total number of rows selected : ',end-start)"
      ],
      "execution_count": null,
      "outputs": [
        {
          "output_type": "stream",
          "name": "stdout",
          "text": [
            "Enter start row Number : 100\n",
            "Enter start row Number : 200\n",
            "Total number of rows selected :  100\n"
          ]
        }
      ]
    },
    {
      "cell_type": "code",
      "metadata": {
        "colab": {
          "base_uri": "https://localhost:8080/"
        },
        "id": "587pOcajn002",
        "outputId": "df634d47-eceb-4a63-b162-f132aa3aeddd"
      },
      "source": [
        "#updating records in a sheet\n",
        "for i in range(start,end):\n",
        "  try:\n",
        "    time.sleep(2)\n",
        "    clear_output(wait=True)\n",
        "    print('Current row number : ' ,i)\n",
        "\n",
        "    address = sheet.cell(i,4).value\n",
        "    if address == '':\n",
        "      continue\n",
        "    else:\n",
        "      print(address)\n",
        "      area = input('Enter Area Name: ')\n",
        "      sheet.update_cell(row=i, col=8, value=area)\n",
        "\n",
        "      timing = input('Enter Timing (eg.9am-8pm): ')\n",
        "      timing = timing.replace('-', ' to ')\n",
        "      sheet.update_cell(row=i, col=9, value=timing)\n",
        "      isMall(address)\n",
        "\n",
        "  except TypeError:\n",
        "    continue\n",
        "  except KeyboardInterrupt:\n",
        "    print('Current row number : ' ,i)\n",
        "    break\n",
        "  except:\n",
        "     print('Current row number : ' ,i)"
      ],
      "execution_count": null,
      "outputs": [
        {
          "output_type": "stream",
          "name": "stdout",
          "text": [
            "Current row number :  106\n",
            "Current row number :  107\n"
          ]
        }
      ]
    },
    {
      "cell_type": "code",
      "metadata": {
        "id": "_MNVpih2JhSw"
      },
      "source": [
        ""
      ],
      "execution_count": null,
      "outputs": []
    }
  ]
}